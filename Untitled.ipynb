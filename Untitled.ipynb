{
 "cells": [
  {
   "cell_type": "code",
   "execution_count": 2,
   "id": "28bfe308-0cf9-498e-9f4e-bfb1b76aacb7",
   "metadata": {},
   "outputs": [
    {
     "name": "stdout",
     "output_type": "stream",
     "text": [
      "Requirement already satisfied: mysql-connector-python in c:\\users\\hp\\appdata\\local\\programs\\python\\python312\\lib\\site-packages (8.4.0)\n",
      "Note: you may need to restart the kernel to use updated packages.\n"
     ]
    }
   ],
   "source": [
    "pip install mysql-connector-python"
   ]
  },
  {
   "cell_type": "code",
   "execution_count": 36,
   "id": "82c69332-be29-40ae-a1df-df2cd9b2f0a8",
   "metadata": {},
   "outputs": [
    {
     "name": "stdout",
     "output_type": "stream",
     "text": [
      "('abhay ', 'x', 'm')\n",
      "('arun', 'xii', 'm')\n",
      "('aditya', 'ix', 'm')\n",
      "('rani', 'x', 'f')\n",
      "('mohini', 'xii', 'f')\n",
      "('sunny', 'ix', 'f')\n",
      "('bobby', 'x', 'm')\n",
      "('jhon', 'xii', 'm')\n",
      "('arun', 'bca', 'm')\n",
      "('arun', 'bca', 'm')\n",
      "('arun', 'bca', 'm')\n",
      "('arun', 'bca', 'm')\n",
      "('arun', 'bca', 'm')\n",
      "('arun', 'bca', 'm')\n",
      "('arun', 'bca', 'm')\n"
     ]
    }
   ],
   "source": [
    "mylb = mysql.connector.connect (\n",
    "    host = \"localhost\",\n",
    "    user = \"root\",\n",
    "    password = \"ROOT\",\n",
    "    database = \"collage\"\n",
    ")\n",
    "mycursor = mylb.cursor()\n",
    "x = \"select * from collage.arun\"\n",
    "mycursor.execute(x)\n",
    "y = mycursor.fetchall()\n",
    "for i in y:\n",
    "    print(i)"
   ]
  },
  {
   "cell_type": "code",
   "execution_count": 4,
   "id": "4bfb1f2c-01c2-44a5-80c0-be82d05a0eb6",
   "metadata": {},
   "outputs": [],
   "source": [
    "import mysql.connector"
   ]
  },
  {
   "cell_type": "code",
   "execution_count": null,
   "id": "e649dadb-e57f-4b03-9b60-3400c736e0eb",
   "metadata": {},
   "outputs": [],
   "source": []
  },
  {
   "cell_type": "code",
   "execution_count": 35,
   "id": "7589f8f5-aa89-48de-bbbe-45b69cc1a19e",
   "metadata": {},
   "outputs": [],
   "source": [
    "x= \"insert into arun(name,class,gender) values(%s,%s,%s)\"\n",
    "y=(\"arun\",\"bca\",\"m\")\n",
    "mycursor.execute(x,y)\n",
    "mylb.commit()"
   ]
  },
  {
   "cell_type": "code",
   "execution_count": null,
   "id": "72498734-f1ee-4659-bb3e-f26c02aa6717",
   "metadata": {},
   "outputs": [],
   "source": []
  },
  {
   "cell_type": "code",
   "execution_count": null,
   "id": "94374e65-4867-4666-9bf3-bcf9f8310209",
   "metadata": {},
   "outputs": [],
   "source": []
  }
 ],
 "metadata": {
  "kernelspec": {
   "display_name": "Python 3 (ipykernel)",
   "language": "python",
   "name": "python3"
  },
  "language_info": {
   "codemirror_mode": {
    "name": "ipython",
    "version": 3
   },
   "file_extension": ".py",
   "mimetype": "text/x-python",
   "name": "python",
   "nbconvert_exporter": "python",
   "pygments_lexer": "ipython3",
   "version": "3.12.3"
  }
 },
 "nbformat": 4,
 "nbformat_minor": 5
}
